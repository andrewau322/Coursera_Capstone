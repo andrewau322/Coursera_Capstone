{
 "cells": [
  {
   "cell_type": "markdown",
   "metadata": {},
   "source": [
    "# The battle of Neighborhood | Business Proposal | Introduction\n",
    "\n"
   ]
  },
  {
   "cell_type": "markdown",
   "metadata": {},
   "source": [
    "# Introduction/ Business Problem\n",
    "\n",
    "\n",
    "According to statista, Australia coffee market is among the largest in the world, reaching a revenue greater than 1.4 Billion US dollars in 2017. Futhermore, Australians consumed around 1.91 kilograms of coffee per person in 2019 on average. In particular, residents in Sydney are more inclined to purchase fresh coffee based on a research published by Roy Morgan Single Source. As a result, this represents lucurative opportunities for entrepreneurs who would like to establish their coffee shop business in Sydney\n",
    "\n",
    "\n",
    "\n",
    "The purpose of this report is to help potential entrepreneurs in Sydney who wish to set up their own coffee shop. This report will provide them with insights on the optimal location that they can consider in establishing their coffee business. The results of this report will be present in a map, where each suburb is represented by ciricle dot based on the nearby venues within this suburb"
   ]
  },
  {
   "cell_type": "markdown",
   "metadata": {},
   "source": []
  }
 ],
 "metadata": {
  "kernelspec": {
   "display_name": "Python 3",
   "language": "python",
   "name": "python3"
  },
  "language_info": {
   "codemirror_mode": {
    "name": "ipython",
    "version": 3
   },
   "file_extension": ".py",
   "mimetype": "text/x-python",
   "name": "python",
   "nbconvert_exporter": "python",
   "pygments_lexer": "ipython3",
   "version": "3.8.5"
  }
 },
 "nbformat": 4,
 "nbformat_minor": 4
}
