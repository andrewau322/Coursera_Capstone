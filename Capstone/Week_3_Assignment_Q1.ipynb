{
 "cells": [
  {
   "cell_type": "code",
   "execution_count": 1,
   "metadata": {},
   "outputs": [],
   "source": [
    "import requests # library to handle requests\n",
    "import bs4\n",
    "import pandas as pd\n",
    "from sklearn.cluster import KMeans\n",
    "# Matplotlib and associated plotting modules\n",
    "import matplotlib.cm as cm\n",
    "import matplotlib.colors as colors\n",
    "import folium # map rendering library\n",
    "from geopy.geocoders import Nominatim # convert an address into latitude and longitude values\n",
    "\n",
    "CLIENT_ID = 'OOL3CJVWOLDGNU01D1VMCWKV2M1MQN5EJVXO13BBHWZPKGYR' # your Foursquare ID\n",
    "CLIENT_SECRET = 'VZWPT2ARYG2CTCL1QSUTIUM2B5MFIIH4HOEJUGSUN15CXM3U' # your Foursquare Secret\n",
    "ACCESS_TOKEN = 'KEZAPAWX2SID04SJG51EVSH5332ZQX1OXTFXMNEIYPWB2TBU' # your FourSquare Access Token\n",
    "VERSION = '20180604'\n",
    "LIMIT = 100 # A default Foursquare API limit value"
   ]
  },
  {
   "cell_type": "code",
   "execution_count": 10,
   "metadata": {},
   "outputs": [],
   "source": [
    "#Scrape the wikipeadia page using requests and BeautifulSoup\n",
    "url = 'https://en.wikipedia.org/wiki/List_of_postal_codes_of_Canada:_M'\n",
    "results = requests.get(url)\n",
    "soup = bs4.BeautifulSoup(results.text, 'lxml')\n",
    "\n",
    "#Create an array for extract the relevant using information\n",
    "PostalCode = []\n",
    "Borough = []\n",
    "Neighborhood = []\n",
    "\n",
    "#Extract elements from the table \n",
    "table = soup.find(\"table\",class_ =  \"wikitable sortable\")\n",
    "\n",
    "\n",
    "#convert elemnts into string\n",
    "table = table.get_text()\n",
    "\n",
    "#convert the elemnts of the table from string to list and split the list based on \\n\n",
    "table = table.split('\\n')\n",
    "\n",
    "#Remove white space from the list\n",
    "str_list = list(filter(None, table))\n"
   ]
  },
  {
   "cell_type": "code",
   "execution_count": 3,
   "metadata": {},
   "outputs": [],
   "source": [
    "# Extract PostalCode from the list\n",
    "PostalCode = str_list[0:len(str_list):3]\n",
    "\n",
    "# Extract Borough from the list\n",
    "Borough = str_list[1:len(str_list):3]\n",
    "\n",
    "# Extract Neighborhood from the list\n",
    "Neighborhood = str_list[2:len(str_list):3]\n",
    "\n",
    "# Convert list into Series\n",
    "se1 = pd.Series(PostalCode)\n",
    "se2 = pd.Series(Borough)\n",
    "se3 = pd.Series(Neighborhood)\n"
   ]
  },
  {
   "cell_type": "code",
   "execution_count": 11,
   "metadata": {},
   "outputs": [],
   "source": [
    "# Create a dataframe and add Series to the dataframe\n",
    "Dataframe = pd.concat([se1,se2,se3], axis=1)\n",
    "\n",
    "# Rename the columns \n",
    "Dataframe.columns = [\"PostalCode\", \"Borough\", \"Neighborhood\"]\n"
   ]
  },
  {
   "cell_type": "code",
   "execution_count": 5,
   "metadata": {},
   "outputs": [],
   "source": [
    "# Remove \"Not Assigned\" within the column \"Borough\"\n",
    "df = Dataframe[Dataframe[\"Borough\"] != \"Not assigned\"].reset_index(drop=True)\n",
    "\n",
    "# Remove the first row as it contains the column name of the table\n",
    "df = df.drop(df.index[0])"
   ]
  },
  {
   "cell_type": "code",
   "execution_count": 6,
   "metadata": {},
   "outputs": [
    {
     "data": {
      "text/html": [
       "<div>\n",
       "<style scoped>\n",
       "    .dataframe tbody tr th:only-of-type {\n",
       "        vertical-align: middle;\n",
       "    }\n",
       "\n",
       "    .dataframe tbody tr th {\n",
       "        vertical-align: top;\n",
       "    }\n",
       "\n",
       "    .dataframe thead th {\n",
       "        text-align: right;\n",
       "    }\n",
       "</style>\n",
       "<table border=\"1\" class=\"dataframe\">\n",
       "  <thead>\n",
       "    <tr style=\"text-align: right;\">\n",
       "      <th></th>\n",
       "      <th>PostalCode</th>\n",
       "      <th>Borough</th>\n",
       "      <th>Neighborhood</th>\n",
       "    </tr>\n",
       "  </thead>\n",
       "  <tbody>\n",
       "    <tr>\n",
       "      <th>1</th>\n",
       "      <td>M3A</td>\n",
       "      <td>North York</td>\n",
       "      <td>Parkwoods</td>\n",
       "    </tr>\n",
       "    <tr>\n",
       "      <th>2</th>\n",
       "      <td>M4A</td>\n",
       "      <td>North York</td>\n",
       "      <td>Victoria Village</td>\n",
       "    </tr>\n",
       "    <tr>\n",
       "      <th>3</th>\n",
       "      <td>M5A</td>\n",
       "      <td>Downtown Toronto</td>\n",
       "      <td>Regent Park, Harbourfront</td>\n",
       "    </tr>\n",
       "    <tr>\n",
       "      <th>4</th>\n",
       "      <td>M6A</td>\n",
       "      <td>North York</td>\n",
       "      <td>Lawrence Manor, Lawrence Heights</td>\n",
       "    </tr>\n",
       "    <tr>\n",
       "      <th>5</th>\n",
       "      <td>M7A</td>\n",
       "      <td>Downtown Toronto</td>\n",
       "      <td>Queen's Park, Ontario Provincial Government</td>\n",
       "    </tr>\n",
       "  </tbody>\n",
       "</table>\n",
       "</div>"
      ],
      "text/plain": [
       "  PostalCode           Borough                                 Neighborhood\n",
       "1        M3A        North York                                    Parkwoods\n",
       "2        M4A        North York                             Victoria Village\n",
       "3        M5A  Downtown Toronto                    Regent Park, Harbourfront\n",
       "4        M6A        North York             Lawrence Manor, Lawrence Heights\n",
       "5        M7A  Downtown Toronto  Queen's Park, Ontario Provincial Government"
      ]
     },
     "execution_count": 6,
     "metadata": {},
     "output_type": "execute_result"
    }
   ],
   "source": [
    "df.head()"
   ]
  },
  {
   "cell_type": "code",
   "execution_count": 7,
   "metadata": {},
   "outputs": [
    {
     "data": {
      "text/plain": [
       "(103, 3)"
      ]
     },
     "execution_count": 7,
     "metadata": {},
     "output_type": "execute_result"
    }
   ],
   "source": [
    "df.shape"
   ]
  },
  {
   "cell_type": "code",
   "execution_count": null,
   "metadata": {},
   "outputs": [],
   "source": []
  }
 ],
 "metadata": {
  "kernelspec": {
   "display_name": "Python 3",
   "language": "python",
   "name": "python3"
  },
  "language_info": {
   "codemirror_mode": {
    "name": "ipython",
    "version": 3
   },
   "file_extension": ".py",
   "mimetype": "text/x-python",
   "name": "python",
   "nbconvert_exporter": "python",
   "pygments_lexer": "ipython3",
   "version": "3.8.5"
  }
 },
 "nbformat": 4,
 "nbformat_minor": 4
}
